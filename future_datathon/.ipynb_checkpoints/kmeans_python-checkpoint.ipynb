{
 "cells": [
  {
   "cell_type": "code",
   "execution_count": 1,
   "metadata": {
    "collapsed": true
   },
   "outputs": [],
   "source": [
    "import pandas as pd\n",
    "import numpy as np\n",
    "from sklearn.cluster import KMeans\n",
    "from sklearn.metrics import silhouette_score\n",
    "from sklearn.preprocessing import LabelEncoder, RobustScaler"
   ]
  },
  {
   "cell_type": "code",
   "execution_count": 2,
   "metadata": {
    "collapsed": true
   },
   "outputs": [],
   "source": [
    "## load data\n",
    "products = pd.read_csv('cproducts.csv')\n",
    "tender = pd.read_csv('ctender.csv')"
   ]
  },
  {
   "cell_type": "code",
   "execution_count": 3,
   "metadata": {
    "collapsed": false
   },
   "outputs": [
    {
     "name": "stdout",
     "output_type": "stream",
     "text": [
      "product file has 11972 rows and 16 columns\n",
      "tender file has 149752 rows and 13 columns\n"
     ]
    }
   ],
   "source": [
    "## check shape of files\n",
    "print('product file has {} rows and {} columns'.format(products.shape[0], products.shape[1]))\n",
    "print('tender file has {} rows and {} columns'.format(tender.shape[0], tender.shape[1]))"
   ]
  },
  {
   "cell_type": "code",
   "execution_count": 4,
   "metadata": {
    "collapsed": false
   },
   "outputs": [
    {
     "data": {
      "text/html": [
       "<div>\n",
       "<table border=\"1\" class=\"dataframe\">\n",
       "  <thead>\n",
       "    <tr style=\"text-align: right;\">\n",
       "      <th></th>\n",
       "      <th>customerID</th>\n",
       "      <th>DOB</th>\n",
       "      <th>Gender</th>\n",
       "      <th>State</th>\n",
       "      <th>PinCode</th>\n",
       "      <th>transactionDate</th>\n",
       "      <th>store_code</th>\n",
       "      <th>store_description</th>\n",
       "      <th>till_no</th>\n",
       "      <th>transaction_number_by_till</th>\n",
       "      <th>promo_code</th>\n",
       "      <th>promotion_description</th>\n",
       "      <th>product_code</th>\n",
       "      <th>product_description</th>\n",
       "      <th>sale_price_after_promo</th>\n",
       "      <th>discountUsed</th>\n",
       "    </tr>\n",
       "  </thead>\n",
       "  <tbody>\n",
       "    <tr>\n",
       "      <th>0</th>\n",
       "      <td>BBID_20482</td>\n",
       "      <td>1975-10-20</td>\n",
       "      <td>male</td>\n",
       "      <td>MADHYA PRADESH</td>\n",
       "      <td>453441.0</td>\n",
       "      <td>2016-05-01</td>\n",
       "      <td>2655</td>\n",
       "      <td>BB-INDORE-MALHAR MEGA MALL</td>\n",
       "      <td>2</td>\n",
       "      <td>85246</td>\n",
       "      <td>NONPROMO</td>\n",
       "      <td>NaN</td>\n",
       "      <td>1000446431</td>\n",
       "      <td>PATANJALI CHOCOS 125g</td>\n",
       "      <td>55.00</td>\n",
       "      <td>Payback</td>\n",
       "    </tr>\n",
       "    <tr>\n",
       "      <th>1</th>\n",
       "      <td>BBID_20485</td>\n",
       "      <td>1955-07-21</td>\n",
       "      <td>female</td>\n",
       "      <td>NaN</td>\n",
       "      <td>999999.0</td>\n",
       "      <td>2017-03-09</td>\n",
       "      <td>2655</td>\n",
       "      <td>BB-INDORE-MALHAR MEGA MALL</td>\n",
       "      <td>8</td>\n",
       "      <td>78829</td>\n",
       "      <td>NONPROMO</td>\n",
       "      <td>NaN</td>\n",
       "      <td>1000010431</td>\n",
       "      <td>SOO FRESH ROLLS HOT DOG 4P</td>\n",
       "      <td>30.00</td>\n",
       "      <td>Payback</td>\n",
       "    </tr>\n",
       "    <tr>\n",
       "      <th>2</th>\n",
       "      <td>BBID_20498</td>\n",
       "      <td>1981-03-19</td>\n",
       "      <td>female</td>\n",
       "      <td>MAHARASHTRA</td>\n",
       "      <td>400064.0</td>\n",
       "      <td>2015-08-12</td>\n",
       "      <td>2655</td>\n",
       "      <td>BB-INDORE-MALHAR MEGA MALL</td>\n",
       "      <td>13</td>\n",
       "      <td>1064</td>\n",
       "      <td>0000971754</td>\n",
       "      <td>AD 399 FLAT LADIES JEANS  FASHION EXC</td>\n",
       "      <td>1000077851005</td>\n",
       "      <td>DLJ-0010-BSF-2-CJ-FL, 34, BLACK</td>\n",
       "      <td>418.95</td>\n",
       "      <td>Payback</td>\n",
       "    </tr>\n",
       "    <tr>\n",
       "      <th>3</th>\n",
       "      <td>BBID_20499</td>\n",
       "      <td>1986-05-10</td>\n",
       "      <td>male</td>\n",
       "      <td>MAHARASHTRA</td>\n",
       "      <td>400099.0</td>\n",
       "      <td>2016-12-18</td>\n",
       "      <td>2615</td>\n",
       "      <td>BB-AMRITSAR-TRILIUM MALL</td>\n",
       "      <td>14</td>\n",
       "      <td>51080</td>\n",
       "      <td>NONPROMO</td>\n",
       "      <td>NaN</td>\n",
       "      <td>1000443231</td>\n",
       "      <td>PATANJALI TOMATO KETCHUP BT 500g</td>\n",
       "      <td>70.00</td>\n",
       "      <td>Payback</td>\n",
       "    </tr>\n",
       "    <tr>\n",
       "      <th>4</th>\n",
       "      <td>BBID_204110</td>\n",
       "      <td>1988-02-29</td>\n",
       "      <td>male</td>\n",
       "      <td>MADHYA PRADESH</td>\n",
       "      <td>474001.0</td>\n",
       "      <td>2015-12-31</td>\n",
       "      <td>2655</td>\n",
       "      <td>BB-INDORE-MALHAR MEGA MALL</td>\n",
       "      <td>9</td>\n",
       "      <td>21911</td>\n",
       "      <td>0000974126</td>\n",
       "      <td>NMP 5% OFF CONCEPT DISCOUNT 2655</td>\n",
       "      <td>300481741</td>\n",
       "      <td>MAGGI NDL MERI MASALA PP 70g</td>\n",
       "      <td>34.20</td>\n",
       "      <td>Payback</td>\n",
       "    </tr>\n",
       "  </tbody>\n",
       "</table>\n",
       "</div>"
      ],
      "text/plain": [
       "    customerID         DOB  Gender           State   PinCode transactionDate  \\\n",
       "0   BBID_20482  1975-10-20    male  MADHYA PRADESH  453441.0      2016-05-01   \n",
       "1   BBID_20485  1955-07-21  female             NaN  999999.0      2017-03-09   \n",
       "2   BBID_20498  1981-03-19  female     MAHARASHTRA  400064.0      2015-08-12   \n",
       "3   BBID_20499  1986-05-10    male     MAHARASHTRA  400099.0      2016-12-18   \n",
       "4  BBID_204110  1988-02-29    male  MADHYA PRADESH  474001.0      2015-12-31   \n",
       "\n",
       "   store_code           store_description  till_no  \\\n",
       "0        2655  BB-INDORE-MALHAR MEGA MALL        2   \n",
       "1        2655  BB-INDORE-MALHAR MEGA MALL        8   \n",
       "2        2655  BB-INDORE-MALHAR MEGA MALL       13   \n",
       "3        2615    BB-AMRITSAR-TRILIUM MALL       14   \n",
       "4        2655  BB-INDORE-MALHAR MEGA MALL        9   \n",
       "\n",
       "   transaction_number_by_till  promo_code  \\\n",
       "0                       85246    NONPROMO   \n",
       "1                       78829    NONPROMO   \n",
       "2                        1064  0000971754   \n",
       "3                       51080    NONPROMO   \n",
       "4                       21911  0000974126   \n",
       "\n",
       "                   promotion_description   product_code  \\\n",
       "0                                    NaN     1000446431   \n",
       "1                                    NaN     1000010431   \n",
       "2  AD 399 FLAT LADIES JEANS  FASHION EXC  1000077851005   \n",
       "3                                    NaN     1000443231   \n",
       "4       NMP 5% OFF CONCEPT DISCOUNT 2655      300481741   \n",
       "\n",
       "                product_description  sale_price_after_promo discountUsed  \n",
       "0             PATANJALI CHOCOS 125g                   55.00      Payback  \n",
       "1        SOO FRESH ROLLS HOT DOG 4P                   30.00      Payback  \n",
       "2   DLJ-0010-BSF-2-CJ-FL, 34, BLACK                  418.95      Payback  \n",
       "3  PATANJALI TOMATO KETCHUP BT 500g                   70.00      Payback  \n",
       "4      MAGGI NDL MERI MASALA PP 70g                   34.20      Payback  "
      ]
     },
     "execution_count": 4,
     "metadata": {},
     "output_type": "execute_result"
    }
   ],
   "source": [
    "# this data file contains product level information of transactions made by customers\n",
    "products.head()"
   ]
  },
  {
   "cell_type": "code",
   "execution_count": 38,
   "metadata": {
    "collapsed": false
   },
   "outputs": [
    {
     "data": {
      "text/html": [
       "<div>\n",
       "<table border=\"1\" class=\"dataframe\">\n",
       "  <thead>\n",
       "    <tr style=\"text-align: right;\">\n",
       "      <th></th>\n",
       "      <th>customerID</th>\n",
       "      <th>DOB</th>\n",
       "      <th>Gender</th>\n",
       "      <th>State</th>\n",
       "      <th>PinCode</th>\n",
       "      <th>transactionDate</th>\n",
       "      <th>store_code</th>\n",
       "      <th>store_description</th>\n",
       "      <th>till_no</th>\n",
       "      <th>tender_type</th>\n",
       "      <th>transaction_number_by_till</th>\n",
       "      <th>payment_amount_by_tender</th>\n",
       "      <th>PaymentUsed</th>\n",
       "    </tr>\n",
       "  </thead>\n",
       "  <tbody>\n",
       "    <tr>\n",
       "      <th>0</th>\n",
       "      <td>BBID_2044</td>\n",
       "      <td>1984-04-02</td>\n",
       "      <td>male</td>\n",
       "      <td>NaN</td>\n",
       "      <td>626125.0</td>\n",
       "      <td>2015-09-03</td>\n",
       "      <td>4986</td>\n",
       "      <td>BB-MADURAI-KOCHADAI VILLAGE</td>\n",
       "      <td>22</td>\n",
       "      <td>GVOWN</td>\n",
       "      <td>9208</td>\n",
       "      <td>1000.00</td>\n",
       "      <td>GiftVoucher</td>\n",
       "    </tr>\n",
       "    <tr>\n",
       "      <th>1</th>\n",
       "      <td>BBID_2044</td>\n",
       "      <td>1984-04-02</td>\n",
       "      <td>male</td>\n",
       "      <td>NaN</td>\n",
       "      <td>626125.0</td>\n",
       "      <td>2015-09-03</td>\n",
       "      <td>4986</td>\n",
       "      <td>BB-MADURAI-KOCHADAI VILLAGE</td>\n",
       "      <td>22</td>\n",
       "      <td>CASH</td>\n",
       "      <td>9208</td>\n",
       "      <td>10.46</td>\n",
       "      <td>CASH</td>\n",
       "    </tr>\n",
       "    <tr>\n",
       "      <th>2</th>\n",
       "      <td>BBID_2044</td>\n",
       "      <td>1984-04-02</td>\n",
       "      <td>male</td>\n",
       "      <td>NaN</td>\n",
       "      <td>626125.0</td>\n",
       "      <td>2016-04-17</td>\n",
       "      <td>4986</td>\n",
       "      <td>BB-MADURAI-KOCHADAI VILLAGE</td>\n",
       "      <td>19</td>\n",
       "      <td>EDCAXIS</td>\n",
       "      <td>90269</td>\n",
       "      <td>677.28</td>\n",
       "      <td>AXIS</td>\n",
       "    </tr>\n",
       "    <tr>\n",
       "      <th>3</th>\n",
       "      <td>BBID_2044</td>\n",
       "      <td>1984-04-02</td>\n",
       "      <td>male</td>\n",
       "      <td>NaN</td>\n",
       "      <td>626125.0</td>\n",
       "      <td>2016-04-17</td>\n",
       "      <td>4986</td>\n",
       "      <td>BB-MADURAI-KOCHADAI VILLAGE</td>\n",
       "      <td>19</td>\n",
       "      <td>MOBI</td>\n",
       "      <td>90268</td>\n",
       "      <td>1042.00</td>\n",
       "      <td>One MobiKwik Systems</td>\n",
       "    </tr>\n",
       "    <tr>\n",
       "      <th>4</th>\n",
       "      <td>BBID_2044</td>\n",
       "      <td>1984-04-02</td>\n",
       "      <td>male</td>\n",
       "      <td>NaN</td>\n",
       "      <td>626125.0</td>\n",
       "      <td>2016-04-17</td>\n",
       "      <td>4986</td>\n",
       "      <td>BB-MADURAI-KOCHADAI VILLAGE</td>\n",
       "      <td>19</td>\n",
       "      <td>MOBI</td>\n",
       "      <td>90269</td>\n",
       "      <td>1000.00</td>\n",
       "      <td>One MobiKwik Systems</td>\n",
       "    </tr>\n",
       "  </tbody>\n",
       "</table>\n",
       "</div>"
      ],
      "text/plain": [
       "  customerID         DOB Gender State   PinCode transactionDate  store_code  \\\n",
       "0  BBID_2044  1984-04-02   male   NaN  626125.0      2015-09-03        4986   \n",
       "1  BBID_2044  1984-04-02   male   NaN  626125.0      2015-09-03        4986   \n",
       "2  BBID_2044  1984-04-02   male   NaN  626125.0      2016-04-17        4986   \n",
       "3  BBID_2044  1984-04-02   male   NaN  626125.0      2016-04-17        4986   \n",
       "4  BBID_2044  1984-04-02   male   NaN  626125.0      2016-04-17        4986   \n",
       "\n",
       "             store_description  till_no tender_type  \\\n",
       "0  BB-MADURAI-KOCHADAI VILLAGE       22       GVOWN   \n",
       "1  BB-MADURAI-KOCHADAI VILLAGE       22        CASH   \n",
       "2  BB-MADURAI-KOCHADAI VILLAGE       19     EDCAXIS   \n",
       "3  BB-MADURAI-KOCHADAI VILLAGE       19        MOBI   \n",
       "4  BB-MADURAI-KOCHADAI VILLAGE       19        MOBI   \n",
       "\n",
       "   transaction_number_by_till  payment_amount_by_tender           PaymentUsed  \n",
       "0                        9208                   1000.00           GiftVoucher  \n",
       "1                        9208                     10.46                  CASH  \n",
       "2                       90269                    677.28                  AXIS  \n",
       "3                       90268                   1042.00  One MobiKwik Systems  \n",
       "4                       90269                   1000.00  One MobiKwik Systems  "
      ]
     },
     "execution_count": 38,
     "metadata": {},
     "output_type": "execute_result"
    }
   ],
   "source": [
    "# this file contains payment mode information used by customers in their transactions\n",
    "tender.head()"
   ]
  },
  {
   "cell_type": "markdown",
   "metadata": {},
   "source": [
    "### Note:\n",
    "Let's build a simple model using products file only. We have to create clusters of customers at store level. We'll use k-means algorithm. We'll set value of k as 3 (you can tune and find optimal value)\n",
    "\n",
    "Clustering process is as follows (work-wise):\n",
    "1. Convert the data into numeric / float.\n",
    "2. Since clustering using distance measure, don't forget to scale the data. \n",
    "3. Create a matrix /array which will be feeded to the algorithm.\n",
    "4. Run function.\n",
    "\n",
    "We'll ensure that sequence of data remains unaffected. Let's see how this is done."
   ]
  },
  {
   "cell_type": "code",
   "execution_count": 6,
   "metadata": {
    "collapsed": true
   },
   "outputs": [],
   "source": [
    "## fill missing values\n",
    "\n",
    "products['promotion_description'].fillna('no_promo', inplace=True)\n",
    "products['Gender'].fillna('no_gender', inplace=True)\n",
    "products['State'].fillna('no_state', inplace=True)\n",
    "products['PinCode'].fillna(-1, inplace=True)\n",
    "products['DOB'].fillna(\"1\", inplace=True)"
   ]
  },
  {
   "cell_type": "code",
   "execution_count": 7,
   "metadata": {
    "collapsed": false
   },
   "outputs": [],
   "source": [
    "## convert data into numeric / float\n",
    "\n",
    "for c in products.columns:\n",
    "    lbl = LabelEncoder()\n",
    "    if products[c].dtype == 'object' and c not in ['store_description','customerID','transactionDate']:\n",
    "        products[c] = lbl.fit_transform(products[c])"
   ]
  },
  {
   "cell_type": "code",
   "execution_count": 42,
   "metadata": {
    "collapsed": false
   },
   "outputs": [
    {
     "name": "stdout",
     "output_type": "stream",
     "text": [
      "        customerID   DOB  Gender  State   PinCode transactionDate  store_code  \\\n",
      "7071   BBID_211492  5870       0     17  560095.0      2016-03-22        4843   \n",
      "7072   BBID_211496  3965       0     17  560094.0      2016-02-21        4843   \n",
      "7134  BBID_2114866  4217       1     36  999999.0      2017-06-25        4843   \n",
      "7135  BBID_2114880  2693       1     35  713213.0      2015-09-09        4843   \n",
      "7136  BBID_2114885  1726       1     14  814112.0      2016-05-17        4843   \n",
      "\n",
      "        store_description  till_no  transaction_number_by_till  promo_code  \\\n",
      "7071  BB-JAMSHEDPUR-NH-33       19                       52921        2213   \n",
      "7072  BB-JAMSHEDPUR-NH-33       18                       10623        2213   \n",
      "7134  BB-JAMSHEDPUR-NH-33       19                       21211        2213   \n",
      "7135  BB-JAMSHEDPUR-NH-33       19                       37469        2213   \n",
      "7136  BB-JAMSHEDPUR-NH-33       22                       18687         778   \n",
      "\n",
      "      promotion_description   product_code  product_description  \\\n",
      "7071                   2010      108009899                 2420   \n",
      "7072                   2010  1000366424010                 3237   \n",
      "7134                   2010      108034291                 5155   \n",
      "7135                   2010      108037500                 3661   \n",
      "7136                    854      108012832                 3504   \n",
      "\n",
      "      sale_price_after_promo  discountUsed  \n",
      "7071                  219.00            24  \n",
      "7072                  799.00            24  \n",
      "7134                   36.00            24  \n",
      "7135                   65.93            24  \n",
      "7136                   85.00            24  \n",
      "       customerID   DOB  Gender  State   PinCode transactionDate  store_code  \\\n",
      "8     BBID_204186  3487       0     10  122002.0      2017-04-23        3692   \n",
      "150  BBID_2042373  3609       1     36  999999.0      2016-11-22        3692   \n",
      "159  BBID_2042464  1887       2     20  482008.0      2016-02-05        3692   \n",
      "166  BBID_2042605   249       1      6  110070.0      2017-06-04        3692   \n",
      "167  BBID_2042640  2741       1     26  141007.0      2017-02-12        3692   \n",
      "\n",
      "            store_description  till_no  transaction_number_by_till  \\\n",
      "8    BB-LUDHIANA-FEROZEPUR-MF        5                       11873   \n",
      "150  BB-LUDHIANA-FEROZEPUR-MF        7                       63348   \n",
      "159  BB-LUDHIANA-FEROZEPUR-MF        5                       19973   \n",
      "166  BB-LUDHIANA-FEROZEPUR-MF        1                       93609   \n",
      "167  BB-LUDHIANA-FEROZEPUR-MF        7                       79324   \n",
      "\n",
      "     promo_code  promotion_description  product_code  product_description  \\\n",
      "8          2213                   2010    1000257325                  528   \n",
      "150        1325                   1551    1000155818                  885   \n",
      "159        2213                   2010     300528030                 3920   \n",
      "166        2213                   2010     300183686                 1895   \n",
      "167        2213                   2010     300812356                 5343   \n",
      "\n",
      "     sale_price_after_promo  discountUsed  \n",
      "8                    113.44            24  \n",
      "150                  118.75            24  \n",
      "159                   36.00            24  \n",
      "166                  240.00            24  \n",
      "167                   45.00            24  \n"
     ]
    },
    {
     "name": "stderr",
     "output_type": "stream",
     "text": [
      "/home/gaurav/anaconda3/lib/python3.6/site-packages/ipykernel/__main__.py:15: SettingWithCopyWarning: \n",
      "A value is trying to be set on a copy of a slice from a DataFrame\n",
      "\n",
      "See the caveats in the documentation: http://pandas.pydata.org/pandas-docs/stable/indexing.html#indexing-view-versus-copy\n"
     ]
    },
    {
     "name": "stdout",
     "output_type": "stream",
     "text": [
      "       customerID   DOB  Gender  State   PinCode transactionDate  store_code  \\\n",
      "3      BBID_20499  5224       1     21  400099.0      2016-12-18        2615   \n",
      "138  BBID_2042160  3564       0     36  999999.0      2016-07-31        2615   \n",
      "155  BBID_2042440  6184       1     26  144005.0      2016-08-04        2615   \n",
      "156  BBID_2042441  5630       1     35  700056.0      2016-09-12        2615   \n",
      "174  BBID_2042864  2212       1     32  226016.0      2017-06-11        2615   \n",
      "\n",
      "            store_description  till_no  transaction_number_by_till  \\\n",
      "3    BB-AMRITSAR-TRILIUM MALL       14                       51080   \n",
      "138  BB-AMRITSAR-TRILIUM MALL        4                       55543   \n",
      "155  BB-AMRITSAR-TRILIUM MALL       10                       50054   \n",
      "156  BB-AMRITSAR-TRILIUM MALL       13                       52905   \n",
      "174  BB-AMRITSAR-TRILIUM MALL       10                        9773   \n",
      "\n",
      "     promo_code  promotion_description   product_code  product_description  \\\n",
      "3          2213                   2010     1000443231                 4364   \n",
      "138        2213                   2010      108013754                 3989   \n",
      "155        2213                   2010      108007709                 1007   \n",
      "156        2213                   2010  1000542904005                 3197   \n",
      "174        1992                   1279      108035055                 5518   \n",
      "\n",
      "     sale_price_after_promo  discountUsed  \n",
      "3                      70.0            24  \n",
      "138                    82.0            24  \n",
      "155                    24.0            24  \n",
      "156                   399.0            24  \n",
      "174                   115.0            24  \n",
      "     customerID   DOB  Gender  State   PinCode transactionDate  store_code  \\\n",
      "6   BBID_204149  3409       1     21  401105.0      2016-11-08        2906   \n",
      "17  BBID_204360  4835       1     21  425001.0      2016-10-15        2906   \n",
      "23  BBID_204461  1928       1     17  574105.0      2016-06-30        2906   \n",
      "28  BBID_204707  1749       0     36  999999.0      2017-05-09        2906   \n",
      "29  BBID_204710  3632       1     36  999999.0      2016-09-14        2906   \n",
      "\n",
      "            store_description  till_no  transaction_number_by_till  \\\n",
      "6   BB-INDORE-TREASURE ISLAND       11                       33822   \n",
      "17  BB-INDORE-TREASURE ISLAND       18                       13032   \n",
      "23  BB-INDORE-TREASURE ISLAND       20                        2499   \n",
      "28  BB-INDORE-TREASURE ISLAND       14                       54186   \n",
      "29  BB-INDORE-TREASURE ISLAND        6                       17669   \n",
      "\n",
      "    promo_code  promotion_description   product_code  product_description  \\\n",
      "6         1271                    142  1000479429005                 5228   \n",
      "17        1168                   1004  1000200229014                 5232   \n",
      "23        2213                   2010      300047282                 4607   \n",
      "28        2213                   2010  1000438421014                 1586   \n",
      "29        2213                   2010      108018123                   96   \n",
      "\n",
      "    sale_price_after_promo  discountUsed  \n",
      "6                  1503.75            24  \n",
      "17                  299.50            24  \n",
      "23                   69.00            24  \n",
      "28                  599.00            24  \n",
      "29                  119.00            24  \n",
      "        customerID   DOB  Gender  State   PinCode transactionDate  store_code  \\\n",
      "7069   BBID_211441  5322       2     17  581305.0      2016-08-13        4796   \n",
      "7070   BBID_211478  5864       0     17  580001.0      2016-02-17        4796   \n",
      "7073  BBID_2114151  3896       1      0  500021.0      2016-10-18        4796   \n",
      "7074  BBID_2114164  1083       1     17  570023.0      2017-02-14        4796   \n",
      "7075  BBID_2114173  5215       2     17  580020.0      2016-03-05        4796   \n",
      "\n",
      "                   store_description  till_no  transaction_number_by_till  \\\n",
      "7069  BB-HUBLI-GOKUL ROAD-AKSHAY CEN        2                       51829   \n",
      "7070  BB-HUBLI-GOKUL ROAD-AKSHAY CEN        2                       17221   \n",
      "7073  BB-HUBLI-GOKUL ROAD-AKSHAY CEN        2                       64724   \n",
      "7074  BB-HUBLI-GOKUL ROAD-AKSHAY CEN       14                        7619   \n",
      "7075  BB-HUBLI-GOKUL ROAD-AKSHAY CEN       18                       14009   \n",
      "\n",
      "      promo_code  promotion_description   product_code  product_description  \\\n",
      "7069        2213                   2010      300570144                 1158   \n",
      "7070         604                     50  1000324381073                  436   \n",
      "7073        2213                   2010     1000366344                 5436   \n",
      "7074        2213                   2010   300013348006                 5829   \n",
      "7075        2131                    691     1000349544                  231   \n",
      "\n",
      "      sale_price_after_promo  discountUsed  \n",
      "7069                    20.0            24  \n",
      "7070                     0.0            24  \n",
      "7073                    20.0            24  \n",
      "7074                   136.0            24  \n",
      "7075                   223.8            24  \n",
      "     customerID   DOB  Gender  State   PinCode transactionDate  store_code  \\\n",
      "9   BBID_204232  5231       1     30  625011.0      2016-05-24        4986   \n",
      "11  BBID_204277  5218       1     30  625016.0      2015-12-27        4986   \n",
      "12  BBID_204295  3496       1     30  600041.0      2015-12-12        4986   \n",
      "13  BBID_204322  1100       1     30  600093.0      2016-01-08        4986   \n",
      "14  BBID_204334  4002       1     30  641025.0      2015-05-01        4986   \n",
      "\n",
      "              store_description  till_no  transaction_number_by_till  \\\n",
      "9   BB-MADURAI-KOCHADAI VILLAGE       13                       79027   \n",
      "11  BB-MADURAI-KOCHADAI VILLAGE       11                       47836   \n",
      "12  BB-MADURAI-KOCHADAI VILLAGE       13                       16411   \n",
      "13  BB-MADURAI-KOCHADAI VILLAGE        1                       14527   \n",
      "14  BB-MADURAI-KOCHADAI VILLAGE       13                       36412   \n",
      "\n",
      "    promo_code  promotion_description  product_code  product_description  \\\n",
      "9         2213                   2010     108014378                 4484   \n",
      "11         521                   1924     108001161                 2375   \n",
      "12         478                   1897     108017906                 5940   \n",
      "13         541                    501    1000258675                 5479   \n",
      "14          11                   1899     300158262                 5329   \n",
      "\n",
      "    sale_price_after_promo  discountUsed  \n",
      "9                    72.00            24  \n",
      "11                   23.80            24  \n",
      "12                  150.00            24  \n",
      "13                  188.92            24  \n",
      "14                    9.00            24  \n",
      "    customerID   DOB  Gender  State   PinCode transactionDate  store_code  \\\n",
      "0   BBID_20482  3108       1     20  453441.0      2016-05-01        2655   \n",
      "1   BBID_20485   594       0     36  999999.0      2017-03-09        2655   \n",
      "2   BBID_20498  4175       0     21  400064.0      2015-08-12        2655   \n",
      "4  BBID_204110  5596       1     20  474001.0      2015-12-31        2655   \n",
      "5  BBID_204129  3258       2     36  999999.0      2017-01-21        2655   \n",
      "\n",
      "            store_description  till_no  transaction_number_by_till  \\\n",
      "0  BB-INDORE-MALHAR MEGA MALL        2                       85246   \n",
      "1  BB-INDORE-MALHAR MEGA MALL        8                       78829   \n",
      "2  BB-INDORE-MALHAR MEGA MALL       13                        1064   \n",
      "4  BB-INDORE-MALHAR MEGA MALL        9                       21911   \n",
      "5  BB-INDORE-MALHAR MEGA MALL        4                       22778   \n",
      "\n",
      "   promo_code  promotion_description   product_code  product_description  \\\n",
      "0        2213                   2010     1000446431                 4269   \n",
      "1        2213                   2010     1000010431                 5121   \n",
      "2         216                     23  1000077851005                 1617   \n",
      "4         225                   1723      300481741                 3472   \n",
      "5        2213                   2010      300648527                 2354   \n",
      "\n",
      "   sale_price_after_promo  discountUsed  \n",
      "0                   55.00            24  \n",
      "1                   30.00            24  \n",
      "2                  418.95            24  \n",
      "4                   34.20            24  \n",
      "5                  249.00            24  \n"
     ]
    }
   ],
   "source": [
    "## scaling, creating matrix and running k-means\n",
    "\n",
    "stores = list(set(products['store_code']))\n",
    "\n",
    "cluster_labels = []\n",
    "cluster_store = []\n",
    "cluster_data = []\n",
    "cluster_customers = []\n",
    "cluster_score = []\n",
    "\n",
    "for x in stores:\n",
    "    cld = products[products['store_code'] == x]\n",
    "    cluster_customers.append(cld['customerID'])\n",
    "    cld.drop(['store_code','customerID','transactionDate','store_description'], axis=1, inplace=True)\n",
    "    \n",
    "    rbs = RobustScaler()\n",
    "    cld2 = rbs.fit_transform(cld)\n",
    "    \n",
    "    km1 = KMeans(n_clusters=5)\n",
    "    km2 = km1.fit(cld2)\n",
    "    label = km2.predict(cld2)\n",
    "    \n",
    "    s_score = silhouette_score(cld2, label)\n",
    "    cluster_score.append(s_score)\n",
    "    \n",
    "    cluster_labels.append(label)\n",
    "    cluster_store.append(np.repeat(x, cld.shape[0]))\n",
    "    cluster_data.append(cld2)"
   ]
  },
  {
   "cell_type": "code",
   "execution_count": 13,
   "metadata": {
    "collapsed": false
   },
   "outputs": [
    {
     "data": {
      "text/plain": [
       "array([2, 2, 0, ..., 0, 0, 0], dtype=int32)"
      ]
     },
     "execution_count": 13,
     "metadata": {},
     "output_type": "execute_result"
    }
   ],
   "source": [
    "cluster_labels[0]"
   ]
  },
  {
   "cell_type": "code",
   "execution_count": 19,
   "metadata": {
    "collapsed": false
   },
   "outputs": [
    {
     "data": {
      "text/plain": [
       "0.93317857492775846"
      ]
     },
     "execution_count": 19,
     "metadata": {},
     "output_type": "execute_result"
    }
   ],
   "source": [
    "# check mean score per store\n",
    "np.mean(cluster_score)"
   ]
  },
  {
   "cell_type": "code",
   "execution_count": 24,
   "metadata": {
    "collapsed": false
   },
   "outputs": [
    {
     "data": {
      "text/plain": [
       "(143664,)"
      ]
     },
     "execution_count": 24,
     "metadata": {},
     "output_type": "execute_result"
    }
   ],
   "source": [
    "cluster_data"
   ]
  },
  {
   "cell_type": "code",
   "execution_count": 32,
   "metadata": {
    "collapsed": false
   },
   "outputs": [],
   "source": [
    "## merge list into ndarray\n",
    "cluster_data = np.concatenate(cluster_data)"
   ]
  },
  {
   "cell_type": "code",
   "execution_count": 33,
   "metadata": {
    "collapsed": false
   },
   "outputs": [
    {
     "data": {
      "text/plain": [
       "(11972, 12)"
      ]
     },
     "execution_count": 33,
     "metadata": {},
     "output_type": "execute_result"
    }
   ],
   "source": [
    "## check if the array has same rows as products file - Yes!\n",
    "cluster_data.shape"
   ]
  },
  {
   "cell_type": "code",
   "execution_count": 34,
   "metadata": {
    "collapsed": true
   },
   "outputs": [],
   "source": [
    "## convert nested lists as 1d array\n",
    "cluster_customers = np.concatenate(cluster_customers)\n",
    "cluster_store = np.concatenate(cluster_store)\n",
    "cluster_labels = np.concatenate(cluster_labels)"
   ]
  },
  {
   "cell_type": "code",
   "execution_count": 35,
   "metadata": {
    "collapsed": true
   },
   "outputs": [],
   "source": [
    "## create submission files\n",
    "sub1 = pd.DataFrame({'customerID':cluster_customers, 'store_code':cluster_store, 'cluster':cluster_labels})"
   ]
  },
  {
   "cell_type": "code",
   "execution_count": 36,
   "metadata": {
    "collapsed": true
   },
   "outputs": [],
   "source": [
    "np.savetxt('../subOne_18.txt', cluster_data)\n",
    "sub1.to_csv('../subtwo_18.csv', index=False)"
   ]
  },
  {
   "cell_type": "markdown",
   "metadata": {},
   "source": [
    "#### Next step - go to the folder in your laptop, where these files are saved, zip them and upload on the challenge page and get score."
   ]
  }
 ],
 "metadata": {
  "kernelspec": {
   "display_name": "Python 3",
   "language": "python",
   "name": "python3"
  },
  "language_info": {
   "codemirror_mode": {
    "name": "ipython",
    "version": 3
   },
   "file_extension": ".py",
   "mimetype": "text/x-python",
   "name": "python",
   "nbconvert_exporter": "python",
   "pygments_lexer": "ipython3",
   "version": "3.6.0"
  }
 },
 "nbformat": 4,
 "nbformat_minor": 2
}
