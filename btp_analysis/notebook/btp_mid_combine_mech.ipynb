{
 "cells": [
  {
   "cell_type": "code",
   "execution_count": 1,
   "metadata": {
    "collapsed": false
   },
   "outputs": [
    {
     "name": "stdout",
     "output_type": "stream",
     "text": [
      "Sample marks entry: 11ME10034  NMY\n"
     ]
    },
    {
     "data": {
      "text/html": [
       "<div>\n",
       "<table border=\"1\" class=\"dataframe\">\n",
       "  <thead>\n",
       "    <tr style=\"text-align: right;\">\n",
       "      <th></th>\n",
       "      <th>roll_number</th>\n",
       "      <th>Name</th>\n",
       "      <th>Guide</th>\n",
       "      <th>Co-guide</th>\n",
       "    </tr>\n",
       "  </thead>\n",
       "  <tbody>\n",
       "    <tr>\n",
       "      <th>0</th>\n",
       "      <td>11ME10034</td>\n",
       "      <td>M Praveen Kumar</td>\n",
       "      <td>Sukanta K Dash</td>\n",
       "      <td></td>\n",
       "    </tr>\n",
       "    <tr>\n",
       "      <th>1</th>\n",
       "      <td>11MF3EP13</td>\n",
       "      <td>Abhishek Sharma</td>\n",
       "      <td>C. S. Kumar</td>\n",
       "      <td></td>\n",
       "    </tr>\n",
       "    <tr>\n",
       "      <th>2</th>\n",
       "      <td>12ME10021</td>\n",
       "      <td>Dwipayan Kar</td>\n",
       "      <td>ZBB NO GUIDE</td>\n",
       "      <td></td>\n",
       "    </tr>\n",
       "    <tr>\n",
       "      <th>3</th>\n",
       "      <td>12ME10034</td>\n",
       "      <td>Mareddy Krishna Kishore Reddy</td>\n",
       "      <td>Jeevanjyoti Chakraborty</td>\n",
       "      <td></td>\n",
       "    </tr>\n",
       "    <tr>\n",
       "      <th>4</th>\n",
       "      <td>12ME10042</td>\n",
       "      <td>Prashant Singh Babal</td>\n",
       "      <td>ZBB NO GUIDE</td>\n",
       "      <td></td>\n",
       "    </tr>\n",
       "  </tbody>\n",
       "</table>\n",
       "</div>"
      ],
      "text/plain": [
       "  roll_number                           Name                    Guide Co-guide\n",
       "0   11ME10034                M Praveen Kumar           Sukanta K Dash         \n",
       "1   11MF3EP13                Abhishek Sharma              C. S. Kumar         \n",
       "2   12ME10021                   Dwipayan Kar             ZBB NO GUIDE         \n",
       "3   12ME10034  Mareddy Krishna Kishore Reddy  Jeevanjyoti Chakraborty         \n",
       "4   12ME10042           Prashant Singh Babal             ZBB NO GUIDE         "
      ]
     },
     "metadata": {},
     "output_type": "display_data"
    },
    {
     "name": "stdout",
     "output_type": "stream",
     "text": [
      "So it works!\n"
     ]
    },
    {
     "data": {
      "text/html": [
       "<div>\n",
       "<table border=\"1\" class=\"dataframe\">\n",
       "  <thead>\n",
       "    <tr style=\"text-align: right;\">\n",
       "      <th></th>\n",
       "      <th>roll_number</th>\n",
       "      <th>Name</th>\n",
       "      <th>All_Guides</th>\n",
       "      <th>Marks (NMY - No marks yet)</th>\n",
       "    </tr>\n",
       "  </thead>\n",
       "  <tbody>\n",
       "    <tr>\n",
       "      <th>0</th>\n",
       "      <td>11ME10034</td>\n",
       "      <td>M Praveen Kumar</td>\n",
       "      <td>Sukanta K Dash</td>\n",
       "      <td>NMY</td>\n",
       "    </tr>\n",
       "    <tr>\n",
       "      <th>1</th>\n",
       "      <td>11MF3EP13</td>\n",
       "      <td>Abhishek Sharma</td>\n",
       "      <td>C. S. Kumar</td>\n",
       "      <td>19</td>\n",
       "    </tr>\n",
       "    <tr>\n",
       "      <th>2</th>\n",
       "      <td>12ME10021</td>\n",
       "      <td>Dwipayan Kar</td>\n",
       "      <td>ZBB NO GUIDE</td>\n",
       "      <td>5</td>\n",
       "    </tr>\n",
       "    <tr>\n",
       "      <th>3</th>\n",
       "      <td>12ME10034</td>\n",
       "      <td>Mareddy Krishna Kishore Reddy</td>\n",
       "      <td>Jeevanjyoti Chakraborty</td>\n",
       "      <td>10</td>\n",
       "    </tr>\n",
       "    <tr>\n",
       "      <th>4</th>\n",
       "      <td>12ME10042</td>\n",
       "      <td>Prashant Singh Babal</td>\n",
       "      <td>ZBB NO GUIDE</td>\n",
       "      <td>0</td>\n",
       "    </tr>\n",
       "  </tbody>\n",
       "</table>\n",
       "</div>"
      ],
      "text/plain": [
       "  roll_number                           Name               All_Guides  \\\n",
       "0   11ME10034                M Praveen Kumar           Sukanta K Dash   \n",
       "1   11MF3EP13                Abhishek Sharma              C. S. Kumar   \n",
       "2   12ME10021                   Dwipayan Kar             ZBB NO GUIDE   \n",
       "3   12ME10034  Mareddy Krishna Kishore Reddy  Jeevanjyoti Chakraborty   \n",
       "4   12ME10042           Prashant Singh Babal             ZBB NO GUIDE   \n",
       "\n",
       "  Marks (NMY - No marks yet)  \n",
       "0                        NMY  \n",
       "1                         19  \n",
       "2                          5  \n",
       "3                         10  \n",
       "4                          0  "
      ]
     },
     "execution_count": 1,
     "metadata": {},
     "output_type": "execute_result"
    }
   ],
   "source": [
    "import pandas as pd\n",
    "import re\n",
    "from IPython.display import display\n",
    "\n",
    "btp_midsem_marks = open('../data/btp_midsem_marks.txt', 'r').read().splitlines()\n",
    "for i, x in enumerate(btp_midsem_marks):\n",
    "    btp_midsem_marks[i] = re.sub(r'\\s+', '  ', btp_midsem_marks[i])\n",
    "print(\"Sample marks entry: %s\" % btp_midsem_marks[0])\n",
    "\n",
    "roll, marks = [], []\n",
    "for i in btp_midsem_marks:\n",
    "    r, m = i.split('  ')\n",
    "    roll.append(r)\n",
    "    marks.append(m)\n",
    "\n",
    "btp_allocation = pd.read_csv('../data/btp_allocation.csv', sep=',').fillna('')\n",
    "display(btp_allocation.head())\n",
    "btp_allocation['All_Guides'] = btp_allocation['Guide'] + ', ' + \\\n",
    "    btp_allocation['Co-guide']\n",
    "del btp_allocation['Guide']\n",
    "del btp_allocation['Co-guide']\n",
    "\n",
    "btp_allocation['Marks (NMY - No marks yet)'] = marks  # since the order was same in both the files\n",
    "btp_allocation['roo'] = roll\n",
    "\n",
    "# Sanity check\n",
    "for row in btp_allocation.iterrows():\n",
    "    if row[1]['roll_number'].strip() != row[1]['roo'].strip():\n",
    "        print(row, 'something wrong')\n",
    "    # Remove ugly commas\n",
    "    if row[1]['All_Guides'].split(',')[1] == ' ':\n",
    "        row[1]['All_Guides'] = row[1]['All_Guides'].split(',')[0]\n",
    "del btp_allocation['roo']\n",
    "\n",
    "btp_allocation.to_csv('../output/btp_analysis.csv')\n",
    "print('So it works!')\n",
    "btp_allocation.head()"
   ]
  }
 ],
 "metadata": {
  "kernelspec": {
   "display_name": "Python 3",
   "language": "python",
   "name": "python3"
  },
  "language_info": {
   "codemirror_mode": {
    "name": "ipython",
    "version": 3
   },
   "file_extension": ".py",
   "mimetype": "text/x-python",
   "name": "python",
   "nbconvert_exporter": "python",
   "pygments_lexer": "ipython3",
   "version": "3.6.0"
  }
 },
 "nbformat": 4,
 "nbformat_minor": 2
}
